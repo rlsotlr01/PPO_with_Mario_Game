{
 "cells": [
  {
   "cell_type": "markdown",
   "id": "6a28ec27",
   "metadata": {},
   "source": [
    "# 1. Setup Mario"
   ]
  },
  {
   "cell_type": "code",
   "execution_count": 1,
   "id": "9944dc3b",
   "metadata": {
    "ExecuteTime": {
     "end_time": "2022-06-29T05:56:19.210594Z",
     "start_time": "2022-06-29T05:55:48.066871Z"
    }
   },
   "outputs": [
    {
     "name": "stdout",
     "output_type": "stream",
     "text": [
      "^C\n"
     ]
    }
   ],
   "source": [
    "# !pip install gym_super_mario_bros==7.3.0 nes_py"
   ]
  },
  {
   "cell_type": "code",
   "execution_count": 2,
   "id": "7053a1d3",
   "metadata": {
    "ExecuteTime": {
     "end_time": "2022-06-29T05:58:26.887299Z",
     "start_time": "2022-06-29T05:58:23.870175Z"
    }
   },
   "outputs": [],
   "source": [
    "# Import the game\n",
    "import gym_super_mario_bros\n",
    "# Import the Joypad wrapper\n",
    "from nes_py.wrappers import JoypadSpace\n",
    "# Import the SIMPLIFIED controls\n",
    "from gym_super_mario_bros.actions import SIMPLE_MOVEMENT"
   ]
  },
  {
   "cell_type": "code",
   "execution_count": 5,
   "id": "ff2706da",
   "metadata": {
    "ExecuteTime": {
     "end_time": "2022-06-29T05:58:44.299638Z",
     "start_time": "2022-06-29T05:58:44.277651Z"
    }
   },
   "outputs": [
    {
     "data": {
      "text/plain": [
       "[['NOOP'],\n",
       " ['right'],\n",
       " ['right', 'A'],\n",
       " ['right', 'B'],\n",
       " ['right', 'A', 'B'],\n",
       " ['A'],\n",
       " ['left']]"
      ]
     },
     "execution_count": 5,
     "metadata": {},
     "output_type": "execute_result"
    }
   ],
   "source": [
    "# Simplify the simple movement variables that the mario can take\n",
    "SIMPLE_MOVEMENT\n",
    "# 7 actions that Mario can take"
   ]
  },
  {
   "cell_type": "code",
   "execution_count": 6,
   "id": "f2bca970",
   "metadata": {
    "ExecuteTime": {
     "end_time": "2022-06-29T06:02:13.798667Z",
     "start_time": "2022-06-29T06:02:13.464654Z"
    }
   },
   "outputs": [],
   "source": [
    "# Setup game\n",
    "env = gym_super_mario_bros.make('SuperMarioBros-v0')\n",
    "# env = JoypadSpace(env, SIMPLE_MOVEMENT)"
   ]
  },
  {
   "cell_type": "code",
   "execution_count": 7,
   "id": "3cbdbe44",
   "metadata": {
    "ExecuteTime": {
     "end_time": "2022-06-29T06:02:22.835124Z",
     "start_time": "2022-06-29T06:02:22.822111Z"
    }
   },
   "outputs": [
    {
     "data": {
      "text/plain": [
       "Discrete(256)"
      ]
     },
     "execution_count": 7,
     "metadata": {},
     "output_type": "execute_result"
    }
   ],
   "source": [
    "env.action_space # mario environment's action_space = Discrete(256). Too many\n",
    "# Therefore wrap it in the JoypadSpace"
   ]
  },
  {
   "cell_type": "code",
   "execution_count": 8,
   "id": "4bd2cce0",
   "metadata": {
    "ExecuteTime": {
     "end_time": "2022-06-29T06:03:10.859055Z",
     "start_time": "2022-06-29T06:03:10.532232Z"
    }
   },
   "outputs": [],
   "source": [
    "# Setup game\n",
    "env = gym_super_mario_bros.make('SuperMarioBros-v0')\n",
    "env = JoypadSpace(env, SIMPLE_MOVEMENT)"
   ]
  },
  {
   "cell_type": "code",
   "execution_count": 9,
   "id": "6febadc2",
   "metadata": {
    "ExecuteTime": {
     "end_time": "2022-06-29T06:03:18.630853Z",
     "start_time": "2022-06-29T06:03:18.615881Z"
    }
   },
   "outputs": [
    {
     "data": {
      "text/plain": [
       "Discrete(7)"
      ]
     },
     "execution_count": 9,
     "metadata": {},
     "output_type": "execute_result"
    }
   ],
   "source": [
    "env.action_space # SIMPLE_MOVEMENT"
   ]
  },
  {
   "cell_type": "code",
   "execution_count": 12,
   "id": "9cb7f52d",
   "metadata": {
    "ExecuteTime": {
     "end_time": "2022-06-29T06:04:01.286019Z",
     "start_time": "2022-06-29T06:04:01.274039Z"
    }
   },
   "outputs": [
    {
     "data": {
      "text/plain": [
       "(240, 256, 3)"
      ]
     },
     "execution_count": 12,
     "metadata": {},
     "output_type": "execute_result"
    }
   ],
   "source": [
    "env.observation_space.shape # 240 pixes, 256*3 RGB"
   ]
  },
  {
   "cell_type": "code",
   "execution_count": 14,
   "id": "79a7d4e1",
   "metadata": {
    "ExecuteTime": {
     "end_time": "2022-06-29T06:08:21.672357Z",
     "start_time": "2022-06-29T06:08:21.648374Z"
    }
   },
   "outputs": [
    {
     "data": {
      "text/plain": [
       "5"
      ]
     },
     "execution_count": 14,
     "metadata": {},
     "output_type": "execute_result"
    }
   ],
   "source": [
    "env.action_space.sample()"
   ]
  },
  {
   "cell_type": "code",
   "execution_count": 13,
   "id": "1ee08e88",
   "metadata": {
    "ExecuteTime": {
     "end_time": "2022-06-29T06:08:19.320924Z",
     "start_time": "2022-06-29T06:07:36.908810Z"
    },
    "code_folding": []
   },
   "outputs": [
    {
     "name": "stderr",
     "output_type": "stream",
     "text": [
      "C:\\Users\\iDLaber\\miniconda3\\envs\\baselines\\lib\\site-packages\\pyglet\\image\\codecs\\wic.py:289: UserWarning: [WinError -2147417850] 스레드 모드가 설정된 후에는 바꿀 수 없습니다\n",
      "  warnings.warn(str(err))\n",
      "C:\\Users\\iDLaber\\miniconda3\\envs\\baselines\\lib\\site-packages\\gym_super_mario_bros\\smb_env.py:148: RuntimeWarning: overflow encountered in ubyte_scalars\n",
      "  return (self.ram[0x86] - self.ram[0x071c]) % 256\n"
     ]
    },
    {
     "ename": "KeyboardInterrupt",
     "evalue": "",
     "output_type": "error",
     "traceback": [
      "\u001b[1;31m---------------------------------------------------------------------------\u001b[0m",
      "\u001b[1;31mKeyboardInterrupt\u001b[0m                         Traceback (most recent call last)",
      "Input \u001b[1;32mIn [13]\u001b[0m, in \u001b[0;36m<cell line: 4>\u001b[1;34m()\u001b[0m\n\u001b[0;32m      9\u001b[0m     state, reward, done, info \u001b[38;5;241m=\u001b[39m env\u001b[38;5;241m.\u001b[39mstep(env\u001b[38;5;241m.\u001b[39maction_space\u001b[38;5;241m.\u001b[39msample())\n\u001b[0;32m     10\u001b[0m     \u001b[38;5;66;03m# Randomly take action and get the next_state/reward/done/info\u001b[39;00m\n\u001b[1;32m---> 11\u001b[0m     \u001b[43menv\u001b[49m\u001b[38;5;241;43m.\u001b[39;49m\u001b[43mrender\u001b[49m\u001b[43m(\u001b[49m\u001b[43m)\u001b[49m\n\u001b[0;32m     12\u001b[0m env\u001b[38;5;241m.\u001b[39mclose()\n",
      "File \u001b[1;32m~\\miniconda3\\envs\\baselines\\lib\\site-packages\\gym\\core.py:295\u001b[0m, in \u001b[0;36mWrapper.render\u001b[1;34m(self, mode, **kwargs)\u001b[0m\n\u001b[0;32m    294\u001b[0m \u001b[38;5;28;01mdef\u001b[39;00m \u001b[38;5;21mrender\u001b[39m(\u001b[38;5;28mself\u001b[39m, mode\u001b[38;5;241m=\u001b[39m\u001b[38;5;124m\"\u001b[39m\u001b[38;5;124mhuman\u001b[39m\u001b[38;5;124m\"\u001b[39m, \u001b[38;5;241m*\u001b[39m\u001b[38;5;241m*\u001b[39mkwargs):\n\u001b[1;32m--> 295\u001b[0m     \u001b[38;5;28;01mreturn\u001b[39;00m \u001b[38;5;28mself\u001b[39m\u001b[38;5;241m.\u001b[39menv\u001b[38;5;241m.\u001b[39mrender(mode, \u001b[38;5;241m*\u001b[39m\u001b[38;5;241m*\u001b[39mkwargs)\n",
      "File \u001b[1;32m~\\miniconda3\\envs\\baselines\\lib\\site-packages\\gym\\core.py:295\u001b[0m, in \u001b[0;36mWrapper.render\u001b[1;34m(self, mode, **kwargs)\u001b[0m\n\u001b[0;32m    294\u001b[0m \u001b[38;5;28;01mdef\u001b[39;00m \u001b[38;5;21mrender\u001b[39m(\u001b[38;5;28mself\u001b[39m, mode\u001b[38;5;241m=\u001b[39m\u001b[38;5;124m\"\u001b[39m\u001b[38;5;124mhuman\u001b[39m\u001b[38;5;124m\"\u001b[39m, \u001b[38;5;241m*\u001b[39m\u001b[38;5;241m*\u001b[39mkwargs):\n\u001b[1;32m--> 295\u001b[0m     \u001b[38;5;28;01mreturn\u001b[39;00m \u001b[38;5;28mself\u001b[39m\u001b[38;5;241m.\u001b[39menv\u001b[38;5;241m.\u001b[39mrender(mode, \u001b[38;5;241m*\u001b[39m\u001b[38;5;241m*\u001b[39mkwargs)\n",
      "File \u001b[1;32m~\\miniconda3\\envs\\baselines\\lib\\site-packages\\nes_py\\nes_env.py:386\u001b[0m, in \u001b[0;36mNESEnv.render\u001b[1;34m(self, mode)\u001b[0m\n\u001b[0;32m    380\u001b[0m         \u001b[38;5;28mself\u001b[39m\u001b[38;5;241m.\u001b[39mviewer \u001b[38;5;241m=\u001b[39m ImageViewer(\n\u001b[0;32m    381\u001b[0m             caption\u001b[38;5;241m=\u001b[39mcaption,\n\u001b[0;32m    382\u001b[0m             height\u001b[38;5;241m=\u001b[39mSCREEN_HEIGHT,\n\u001b[0;32m    383\u001b[0m             width\u001b[38;5;241m=\u001b[39mSCREEN_WIDTH,\n\u001b[0;32m    384\u001b[0m         )\n\u001b[0;32m    385\u001b[0m     \u001b[38;5;66;03m# show the screen on the image viewer\u001b[39;00m\n\u001b[1;32m--> 386\u001b[0m     \u001b[38;5;28;43mself\u001b[39;49m\u001b[38;5;241;43m.\u001b[39;49m\u001b[43mviewer\u001b[49m\u001b[38;5;241;43m.\u001b[39;49m\u001b[43mshow\u001b[49m\u001b[43m(\u001b[49m\u001b[38;5;28;43mself\u001b[39;49m\u001b[38;5;241;43m.\u001b[39;49m\u001b[43mscreen\u001b[49m\u001b[43m)\u001b[49m\n\u001b[0;32m    387\u001b[0m \u001b[38;5;28;01melif\u001b[39;00m mode \u001b[38;5;241m==\u001b[39m \u001b[38;5;124m'\u001b[39m\u001b[38;5;124mrgb_array\u001b[39m\u001b[38;5;124m'\u001b[39m:\n\u001b[0;32m    388\u001b[0m     \u001b[38;5;28;01mreturn\u001b[39;00m \u001b[38;5;28mself\u001b[39m\u001b[38;5;241m.\u001b[39mscreen\n",
      "File \u001b[1;32m~\\miniconda3\\envs\\baselines\\lib\\site-packages\\nes_py\\_image_viewer.py:148\u001b[0m, in \u001b[0;36mImageViewer.show\u001b[1;34m(self, frame)\u001b[0m\n\u001b[0;32m    140\u001b[0m image \u001b[38;5;241m=\u001b[39m \u001b[38;5;28mself\u001b[39m\u001b[38;5;241m.\u001b[39mpyglet\u001b[38;5;241m.\u001b[39mimage\u001b[38;5;241m.\u001b[39mImageData(\n\u001b[0;32m    141\u001b[0m     frame\u001b[38;5;241m.\u001b[39mshape[\u001b[38;5;241m1\u001b[39m],\n\u001b[0;32m    142\u001b[0m     frame\u001b[38;5;241m.\u001b[39mshape[\u001b[38;5;241m0\u001b[39m],\n\u001b[1;32m   (...)\u001b[0m\n\u001b[0;32m    145\u001b[0m     pitch\u001b[38;5;241m=\u001b[39mframe\u001b[38;5;241m.\u001b[39mshape[\u001b[38;5;241m1\u001b[39m]\u001b[38;5;241m*\u001b[39m\u001b[38;5;241m-\u001b[39m\u001b[38;5;241m3\u001b[39m\n\u001b[0;32m    146\u001b[0m )\n\u001b[0;32m    147\u001b[0m \u001b[38;5;66;03m# send the image to the window\u001b[39;00m\n\u001b[1;32m--> 148\u001b[0m \u001b[43mimage\u001b[49m\u001b[38;5;241;43m.\u001b[39;49m\u001b[43mblit\u001b[49m\u001b[43m(\u001b[49m\u001b[38;5;241;43m0\u001b[39;49m\u001b[43m,\u001b[49m\u001b[43m \u001b[49m\u001b[38;5;241;43m0\u001b[39;49m\u001b[43m,\u001b[49m\u001b[43m \u001b[49m\u001b[43mwidth\u001b[49m\u001b[38;5;241;43m=\u001b[39;49m\u001b[38;5;28;43mself\u001b[39;49m\u001b[38;5;241;43m.\u001b[39;49m\u001b[43m_window\u001b[49m\u001b[38;5;241;43m.\u001b[39;49m\u001b[43mwidth\u001b[49m\u001b[43m,\u001b[49m\u001b[43m \u001b[49m\u001b[43mheight\u001b[49m\u001b[38;5;241;43m=\u001b[39;49m\u001b[38;5;28;43mself\u001b[39;49m\u001b[38;5;241;43m.\u001b[39;49m\u001b[43m_window\u001b[49m\u001b[38;5;241;43m.\u001b[39;49m\u001b[43mheight\u001b[49m\u001b[43m)\u001b[49m\n\u001b[0;32m    149\u001b[0m \u001b[38;5;28mself\u001b[39m\u001b[38;5;241m.\u001b[39m_window\u001b[38;5;241m.\u001b[39mflip()\n",
      "File \u001b[1;32m~\\miniconda3\\envs\\baselines\\lib\\site-packages\\pyglet\\image\\__init__.py:904\u001b[0m, in \u001b[0;36mImageData.blit\u001b[1;34m(self, x, y, z, width, height)\u001b[0m\n\u001b[0;32m    903\u001b[0m \u001b[38;5;28;01mdef\u001b[39;00m \u001b[38;5;21mblit\u001b[39m(\u001b[38;5;28mself\u001b[39m, x, y, z\u001b[38;5;241m=\u001b[39m\u001b[38;5;241m0\u001b[39m, width\u001b[38;5;241m=\u001b[39m\u001b[38;5;28;01mNone\u001b[39;00m, height\u001b[38;5;241m=\u001b[39m\u001b[38;5;28;01mNone\u001b[39;00m):\n\u001b[1;32m--> 904\u001b[0m     \u001b[38;5;28;43mself\u001b[39;49m\u001b[38;5;241;43m.\u001b[39;49m\u001b[43mget_texture\u001b[49m\u001b[43m(\u001b[49m\u001b[43m)\u001b[49m\u001b[38;5;241m.\u001b[39mblit(x, y, z, width, height)\n",
      "File \u001b[1;32m~\\miniconda3\\envs\\baselines\\lib\\site-packages\\pyglet\\image\\__init__.py:835\u001b[0m, in \u001b[0;36mImageData.get_texture\u001b[1;34m(self, rectangle, force_rectangle)\u001b[0m\n\u001b[0;32m    832\u001b[0m \u001b[38;5;28;01mdef\u001b[39;00m \u001b[38;5;21mget_texture\u001b[39m(\u001b[38;5;28mself\u001b[39m, rectangle\u001b[38;5;241m=\u001b[39m\u001b[38;5;28;01mFalse\u001b[39;00m, force_rectangle\u001b[38;5;241m=\u001b[39m\u001b[38;5;28;01mFalse\u001b[39;00m):\n\u001b[0;32m    833\u001b[0m     \u001b[38;5;28;01mif\u001b[39;00m (\u001b[38;5;129;01mnot\u001b[39;00m \u001b[38;5;28mself\u001b[39m\u001b[38;5;241m.\u001b[39m_current_texture \u001b[38;5;129;01mor\u001b[39;00m\n\u001b[0;32m    834\u001b[0m             (\u001b[38;5;129;01mnot\u001b[39;00m \u001b[38;5;28mself\u001b[39m\u001b[38;5;241m.\u001b[39m_current_texture\u001b[38;5;241m.\u001b[39m_is_rectangle \u001b[38;5;129;01mand\u001b[39;00m force_rectangle)):\n\u001b[1;32m--> 835\u001b[0m         \u001b[38;5;28mself\u001b[39m\u001b[38;5;241m.\u001b[39m_current_texture \u001b[38;5;241m=\u001b[39m \u001b[38;5;28;43mself\u001b[39;49m\u001b[38;5;241;43m.\u001b[39;49m\u001b[43mcreate_texture\u001b[49m\u001b[43m(\u001b[49m\u001b[43mTexture\u001b[49m\u001b[43m,\u001b[49m\u001b[43m \u001b[49m\u001b[43mrectangle\u001b[49m\u001b[43m,\u001b[49m\u001b[43m \u001b[49m\u001b[43mforce_rectangle\u001b[49m\u001b[43m)\u001b[49m\n\u001b[0;32m    836\u001b[0m     \u001b[38;5;28;01mreturn\u001b[39;00m \u001b[38;5;28mself\u001b[39m\u001b[38;5;241m.\u001b[39m_current_texture\n",
      "File \u001b[1;32m~\\miniconda3\\envs\\baselines\\lib\\site-packages\\pyglet\\image\\__init__.py:821\u001b[0m, in \u001b[0;36mImageData.create_texture\u001b[1;34m(self, cls, rectangle, force_rectangle)\u001b[0m\n\u001b[0;32m    798\u001b[0m \u001b[38;5;124;03m\"\"\"Create a texture containing this image.\u001b[39;00m\n\u001b[0;32m    799\u001b[0m \n\u001b[0;32m    800\u001b[0m \u001b[38;5;124;03mIf the image's dimensions are not powers of 2, a TextureRegion of\u001b[39;00m\n\u001b[1;32m   (...)\u001b[0m\n\u001b[0;32m    818\u001b[0m \u001b[38;5;124;03m:rtype: cls or cls.region_class\u001b[39;00m\n\u001b[0;32m    819\u001b[0m \u001b[38;5;124;03m\"\"\"\u001b[39;00m\n\u001b[0;32m    820\u001b[0m internalformat \u001b[38;5;241m=\u001b[39m \u001b[38;5;28mself\u001b[39m\u001b[38;5;241m.\u001b[39m_get_internalformat(\u001b[38;5;28mself\u001b[39m\u001b[38;5;241m.\u001b[39mformat)\n\u001b[1;32m--> 821\u001b[0m texture \u001b[38;5;241m=\u001b[39m \u001b[38;5;28;43mcls\u001b[39;49m\u001b[38;5;241;43m.\u001b[39;49m\u001b[43mcreate\u001b[49m\u001b[43m(\u001b[49m\u001b[38;5;28;43mself\u001b[39;49m\u001b[38;5;241;43m.\u001b[39;49m\u001b[43mwidth\u001b[49m\u001b[43m,\u001b[49m\u001b[43m \u001b[49m\u001b[38;5;28;43mself\u001b[39;49m\u001b[38;5;241;43m.\u001b[39;49m\u001b[43mheight\u001b[49m\u001b[43m,\u001b[49m\u001b[43m \u001b[49m\u001b[43minternalformat\u001b[49m\u001b[43m,\u001b[49m\n\u001b[0;32m    822\u001b[0m \u001b[43m                     \u001b[49m\u001b[43mrectangle\u001b[49m\u001b[43m,\u001b[49m\u001b[43m \u001b[49m\u001b[43mforce_rectangle\u001b[49m\u001b[43m)\u001b[49m\n\u001b[0;32m    823\u001b[0m \u001b[38;5;28;01mif\u001b[39;00m \u001b[38;5;28mself\u001b[39m\u001b[38;5;241m.\u001b[39manchor_x \u001b[38;5;129;01mor\u001b[39;00m \u001b[38;5;28mself\u001b[39m\u001b[38;5;241m.\u001b[39manchor_y:\n\u001b[0;32m    824\u001b[0m     texture\u001b[38;5;241m.\u001b[39manchor_x \u001b[38;5;241m=\u001b[39m \u001b[38;5;28mself\u001b[39m\u001b[38;5;241m.\u001b[39manchor_x\n",
      "File \u001b[1;32m~\\miniconda3\\envs\\baselines\\lib\\site-packages\\pyglet\\image\\__init__.py:1465\u001b[0m, in \u001b[0;36mTexture.create\u001b[1;34m(cls, width, height, internalformat, rectangle, force_rectangle, min_filter, mag_filter)\u001b[0m\n\u001b[0;32m   1462\u001b[0m     texture_height \u001b[38;5;241m=\u001b[39m _nearest_pow2(height)\n\u001b[0;32m   1464\u001b[0m \u001b[38;5;28mid\u001b[39m \u001b[38;5;241m=\u001b[39m GLuint()\n\u001b[1;32m-> 1465\u001b[0m \u001b[43mglGenTextures\u001b[49m\u001b[43m(\u001b[49m\u001b[38;5;241;43m1\u001b[39;49m\u001b[43m,\u001b[49m\u001b[43m \u001b[49m\u001b[43mbyref\u001b[49m\u001b[43m(\u001b[49m\u001b[38;5;28;43mid\u001b[39;49m\u001b[43m)\u001b[49m\u001b[43m)\u001b[49m\n\u001b[0;32m   1466\u001b[0m glBindTexture(target, \u001b[38;5;28mid\u001b[39m\u001b[38;5;241m.\u001b[39mvalue)\n\u001b[0;32m   1467\u001b[0m glTexParameteri(target, GL_TEXTURE_MIN_FILTER, min_filter)\n",
      "File \u001b[1;32m~\\miniconda3\\envs\\baselines\\lib\\site-packages\\pyglet\\gl\\lib.py:87\u001b[0m, in \u001b[0;36merrcheck\u001b[1;34m(result, func, arguments)\u001b[0m\n\u001b[0;32m     83\u001b[0m \u001b[38;5;28;01mclass\u001b[39;00m \u001b[38;5;21;01mGLException\u001b[39;00m(\u001b[38;5;167;01mException\u001b[39;00m):\n\u001b[0;32m     84\u001b[0m     \u001b[38;5;28;01mpass\u001b[39;00m\n\u001b[1;32m---> 87\u001b[0m \u001b[38;5;28;01mdef\u001b[39;00m \u001b[38;5;21merrcheck\u001b[39m(result, func, arguments):\n\u001b[0;32m     88\u001b[0m     \u001b[38;5;28;01mif\u001b[39;00m _debug_gl_trace:\n\u001b[0;32m     89\u001b[0m         \u001b[38;5;28;01mtry\u001b[39;00m:\n",
      "\u001b[1;31mKeyboardInterrupt\u001b[0m: "
     ]
    }
   ],
   "source": [
    "# Create a flag - restart or not\n",
    "done = True\n",
    "# Loop through each frame in the game\n",
    "for step in range(100000): # Use 100000 frames\n",
    "    # Start the game to begin with\n",
    "    if done:\n",
    "        # Start the game\n",
    "        env.reset() # If the game is finished -> restart the game\n",
    "    # Do random action\n",
    "    state, reward, done, info = env.step(env.action_space.sample())\n",
    "    # Randomly take action and get the next_state/reward/done/info\n",
    "    \n",
    "    # Show the game on the screen\n",
    "    env.render()\n",
    "env.close()"
   ]
  },
  {
   "cell_type": "code",
   "execution_count": 24,
   "id": "346854b9",
   "metadata": {
    "ExecuteTime": {
     "end_time": "2022-06-29T06:14:03.550455Z",
     "start_time": "2022-06-29T06:14:03.506483Z"
    }
   },
   "outputs": [
    {
     "data": {
      "text/plain": [
       "{'coins': 0,\n",
       " 'flag_get': False,\n",
       " 'life': 2,\n",
       " 'score': 0,\n",
       " 'stage': 1,\n",
       " 'status': 'small',\n",
       " 'time': 400,\n",
       " 'world': 1,\n",
       " 'x_pos': 46,\n",
       " 'x_pos_screen': 46,\n",
       " 'y_pos': 79}"
      ]
     },
     "execution_count": 24,
     "metadata": {},
     "output_type": "execute_result"
    }
   ],
   "source": [
    "env.step(1)[0] # State pixel data\n",
    "env.step(1)[1] # Reward\n",
    "env.step(1)[2] # Done\n",
    "env.step(1)[3] # Additional information"
   ]
  },
  {
   "cell_type": "markdown",
   "id": "58b01c83",
   "metadata": {
    "ExecuteTime": {
     "end_time": "2022-06-29T06:15:25.542329Z",
     "start_time": "2022-06-29T06:15:25.517332Z"
    }
   },
   "source": [
    "# 2. Preprocess Data\n",
    "- Rubbish Data = Rubbish AI\n",
    "- We already wrapped the environment with the JoypadSpace, but still need an additional wrapper"
   ]
  },
  {
   "cell_type": "code",
   "execution_count": null,
   "id": "b16dc2be",
   "metadata": {},
   "outputs": [],
   "source": [
    "# Install pytorch - already existed.\n",
    "# If you want to use GPU, then you should firstly install pytorch and then\n",
    "# install baselines"
   ]
  },
  {
   "cell_type": "code",
   "execution_count": 27,
   "id": "fb4c7a48",
   "metadata": {
    "ExecuteTime": {
     "end_time": "2022-06-29T06:33:32.624554Z",
     "start_time": "2022-06-29T06:33:32.602568Z"
    }
   },
   "outputs": [],
   "source": [
    "# Import Frame Stacker Wrapper and GrayScaling Wrapper\n",
    "# - FrameStack: Capture the couple of frames while playing the Mario (Time-Consequences - LSTM)\n",
    "#               Can know how the mario to move in, how the enemy move in etc.\n",
    "#               Therefore, stacks the pictures together to know the time-changing behavior\n",
    "# - GrayScaleObservation: Color env -> Gray env / Reduce the amount of information.\n",
    "from gym.wrappers import FrameStack, GrayScaleObservation\n",
    "# Import Vectorization Wrappers\n",
    "# Vectorization wrappers : Transform the data into the vectorization information\n",
    "# VecFrameStack : For using the FrameStack Data\n",
    "# DummyVecEnv : For using the basic data\n",
    "from stable_baselines3.common.vec_env import VecFrameStack, DummyVecEnv\n",
    "# Import Matplotlib to show the impact of frame stacking\n",
    "from matplotlib import pyplot as plt"
   ]
  },
  {
   "cell_type": "code",
   "execution_count": 49,
   "id": "4bcfaf9b",
   "metadata": {
    "ExecuteTime": {
     "end_time": "2022-06-29T06:41:02.284067Z",
     "start_time": "2022-06-29T06:41:01.943225Z"
    }
   },
   "outputs": [],
   "source": [
    "# Wrap our environment into the additional wrappers\n",
    "# 1. Create the base environment\n",
    "env = gym_super_mario_bros.make('SuperMarioBros-v0')\n",
    "# 2. Simplify the controls\n",
    "env = JoypadSpace(env, SIMPLE_MOVEMENT)\n",
    "# 3. Grayscale\n",
    "env = GrayScaleObservation(env, keep_dim = True)\n",
    "# 4. Wrap inside the Dummy Environment\n",
    "env = DummyVecEnv([lambda:env])\n",
    "# 5. Stack the frames\n",
    "env = VecFrameStack(env, 4, channels_order = 'last') # 4 for stacks"
   ]
  },
  {
   "cell_type": "code",
   "execution_count": null,
   "id": "af36e3f1",
   "metadata": {},
   "outputs": [],
   "source": []
  },
  {
   "cell_type": "code",
   "execution_count": 50,
   "id": "4075232b",
   "metadata": {
    "ExecuteTime": {
     "end_time": "2022-06-29T06:41:41.801774Z",
     "start_time": "2022-06-29T06:41:41.786784Z"
    }
   },
   "outputs": [
    {
     "data": {
      "text/plain": [
       "(1, 240, 256, 4)"
      ]
     },
     "execution_count": 50,
     "metadata": {},
     "output_type": "execute_result"
    }
   ],
   "source": [
    "state = env.reset() # 240, 256, 3 -> 240,256,1 (Gray Scale Observation)\n",
    "state.shape # VecFrameStack : 240,256,1 -> 240,256,4"
   ]
  },
  {
   "cell_type": "code",
   "execution_count": 51,
   "id": "b5536ef8",
   "metadata": {
    "ExecuteTime": {
     "end_time": "2022-06-29T06:43:55.797322Z",
     "start_time": "2022-06-29T06:43:55.633448Z"
    }
   },
   "outputs": [
    {
     "data": {
      "text/plain": [
       "<matplotlib.image.AxesImage at 0x27b2c840a30>"
      ]
     },
     "execution_count": 51,
     "metadata": {},
     "output_type": "execute_result"
    },
    {
     "data": {
      "image/png": "[encoded data removed]",
      "text/plain": [
       "<Figure size 432x288 with 1 Axes>"
      ]
     },
     "metadata": {
      "needs_background": "light"
     },
     "output_type": "display_data"
    }
   ],
   "source": [
    "plt.imshow(state[0])"
   ]
  },
  {
   "cell_type": "code",
   "execution_count": 72,
   "id": "7a518cef",
   "metadata": {
    "ExecuteTime": {
     "end_time": "2022-06-29T06:46:43.949442Z",
     "start_time": "2022-06-29T06:46:43.931438Z"
    }
   },
   "outputs": [
    {
     "data": {
      "text/plain": [
       "[['NOOP'],\n",
       " ['right'],\n",
       " ['right', 'A'],\n",
       " ['right', 'B'],\n",
       " ['right', 'A', 'B'],\n",
       " ['A'],\n",
       " ['left']]"
      ]
     },
     "execution_count": 72,
     "metadata": {},
     "output_type": "execute_result"
    }
   ],
   "source": [
    "SIMPLE_MOVEMENT"
   ]
  },
  {
   "cell_type": "code",
   "execution_count": 73,
   "id": "11471140",
   "metadata": {
    "ExecuteTime": {
     "end_time": "2022-06-29T06:47:01.378533Z",
     "start_time": "2022-06-29T06:47:01.352566Z"
    }
   },
   "outputs": [],
   "source": [
    "state, reward, done, info = env.step([env.action_space.sample()])\n",
    "# This is vector space, so the action also need to be added as a vector"
   ]
  },
  {
   "cell_type": "code",
   "execution_count": 74,
   "id": "3f4ada43",
   "metadata": {
    "ExecuteTime": {
     "end_time": "2022-06-29T06:47:02.565005Z",
     "start_time": "2022-06-29T06:47:02.399117Z"
    }
   },
   "outputs": [
    {
     "data": {
      "text/plain": [
       "<matplotlib.image.AxesImage at 0x27b2d7b7700>"
      ]
     },
     "execution_count": 74,
     "metadata": {},
     "output_type": "execute_result"
    },
    {
     "data": {
      "image/png": "[encoded data removed]",
      "text/plain": [
       "<Figure size 432x288 with 1 Axes>"
      ]
     },
     "metadata": {
      "needs_background": "light"
     },
     "output_type": "display_data"
    }
   ],
   "source": [
    "plt.imshow(state[0])"
   ]
  },
  {
   "cell_type": "code",
   "execution_count": 79,
   "id": "a669b8f4",
   "metadata": {
    "ExecuteTime": {
     "end_time": "2022-06-29T06:47:34.664127Z",
     "start_time": "2022-06-29T06:47:34.648134Z"
    }
   },
   "outputs": [],
   "source": [
    "state= env.reset()"
   ]
  },
  {
   "cell_type": "code",
   "execution_count": 81,
   "id": "6c2cabec",
   "metadata": {
    "ExecuteTime": {
     "end_time": "2022-06-29T06:47:59.516199Z",
     "start_time": "2022-06-29T06:47:59.497198Z"
    }
   },
   "outputs": [
    {
     "data": {
      "text/plain": [
       "[['NOOP'],\n",
       " ['right'],\n",
       " ['right', 'A'],\n",
       " ['right', 'B'],\n",
       " ['right', 'A', 'B'],\n",
       " ['A'],\n",
       " ['left']]"
      ]
     },
     "execution_count": 81,
     "metadata": {},
     "output_type": "execute_result"
    }
   ],
   "source": [
    "SIMPLE_MOVEMENT"
   ]
  },
  {
   "cell_type": "code",
   "execution_count": 96,
   "id": "4054a29c",
   "metadata": {
    "ExecuteTime": {
     "end_time": "2022-06-29T06:48:28.626870Z",
     "start_time": "2022-06-29T06:48:28.599886Z"
    }
   },
   "outputs": [],
   "source": [
    "state, reward, done, info = env.step([5])# Jump"
   ]
  },
  {
   "cell_type": "code",
   "execution_count": 97,
   "id": "39a3c2af",
   "metadata": {
    "ExecuteTime": {
     "end_time": "2022-06-29T06:48:29.166172Z",
     "start_time": "2022-06-29T06:48:28.732408Z"
    }
   },
   "outputs": [
    {
     "data": {
      "image/png": "[encoded data removed]",
      "text/plain": [
       "<Figure size 1440x576 with 4 Axes>"
      ]
     },
     "metadata": {
      "needs_background": "light"
     },
     "output_type": "display_data"
    }
   ],
   "source": [
    "plt.figure(figsize = (20,8))\n",
    "for idx in range(state.shape[3]):\n",
    "    plt.subplot(1,4,idx+1)\n",
    "    plt.imshow(state[0][:,:,idx])\n",
    "plt.show()"
   ]
  },
  {
   "cell_type": "code",
   "execution_count": 76,
   "id": "592c8bec",
   "metadata": {
    "ExecuteTime": {
     "end_time": "2022-06-29T06:47:04.009602Z",
     "start_time": "2022-06-29T06:47:03.866684Z"
    }
   },
   "outputs": [
    {
     "data": {
      "text/plain": [
       "<matplotlib.image.AxesImage at 0x27b2d5261a0>"
      ]
     },
     "execution_count": 76,
     "metadata": {},
     "output_type": "execute_result"
    },
    {
     "data": {
      "image/png": "[encoded data removed]",
      "text/plain": [
       "<Figure size 432x288 with 1 Axes>"
      ]
     },
     "metadata": {
      "needs_background": "light"
     },
     "output_type": "display_data"
    }
   ],
   "source": [
    "# Use Matplotlib to show the game frame\n",
    "plt.imshow(state[0]) # 2. Change Color images -> Gray images"
   ]
  },
  {
   "cell_type": "code",
   "execution_count": 41,
   "id": "acabb46f",
   "metadata": {
    "ExecuteTime": {
     "end_time": "2022-06-29T06:37:44.833121Z",
     "start_time": "2022-06-29T06:37:44.818131Z"
    }
   },
   "outputs": [],
   "source": [
    " new_state = env.reset()"
   ]
  },
  {
   "cell_type": "code",
   "execution_count": 42,
   "id": "1caefa39",
   "metadata": {
    "ExecuteTime": {
     "end_time": "2022-06-29T06:37:51.121508Z",
     "start_time": "2022-06-29T06:37:50.989584Z"
    }
   },
   "outputs": [
    {
     "data": {
      "text/plain": [
       "<matplotlib.image.AxesImage at 0x27b2c064f70>"
      ]
     },
     "execution_count": 42,
     "metadata": {},
     "output_type": "execute_result"
    },
    {
     "data": {
      "image/png": "[encoded data removed]",
      "text/plain": [
       "<Figure size 432x288 with 1 Axes>"
      ]
     },
     "metadata": {
      "needs_background": "light"
     },
     "output_type": "display_data"
    }
   ],
   "source": [
    "plt.imshow(new_state)"
   ]
  },
  {
   "cell_type": "code",
   "execution_count": 43,
   "id": "6714345f",
   "metadata": {
    "ExecuteTime": {
     "end_time": "2022-06-29T06:38:04.226103Z",
     "start_time": "2022-06-29T06:38:04.206090Z"
    }
   },
   "outputs": [
    {
     "data": {
      "text/plain": [
       "(240, 256, 1)"
      ]
     },
     "execution_count": 43,
     "metadata": {},
     "output_type": "execute_result"
    }
   ],
   "source": [
    "new_state.shape # If no keep_dim -> output: (240,256)"
   ]
  },
  {
   "cell_type": "code",
   "execution_count": 44,
   "id": "477ae35e",
   "metadata": {
    "ExecuteTime": {
     "end_time": "2022-06-29T06:39:24.161198Z",
     "start_time": "2022-06-29T06:39:24.145229Z"
    }
   },
   "outputs": [
    {
     "name": "stdout",
     "output_type": "stream",
     "text": [
      "184320  Change into  61440\n"
     ]
    }
   ],
   "source": [
    "print(240*256*3, ' Change into ', 240*256*1)"
   ]
  },
  {
   "cell_type": "markdown",
   "id": "de0723c9",
   "metadata": {},
   "source": [
    "# 3. Train the RL Model\n"
   ]
  },
  {
   "cell_type": "code",
   "execution_count": 98,
   "id": "b95c8125",
   "metadata": {
    "ExecuteTime": {
     "end_time": "2022-06-29T06:53:06.606569Z",
     "start_time": "2022-06-29T06:53:06.595574Z"
    }
   },
   "outputs": [],
   "source": [
    "# import dependencies - stable_baselines3\n",
    "# import os for file path management\n",
    "import os\n",
    "# Import PPO for algorithm\n",
    "from stable_baselines3 import PPO\n",
    "# Import Base Callback for saving models\n",
    "from stable_baselines3.common.callbacks import BaseCallback"
   ]
  },
  {
   "cell_type": "code",
   "execution_count": 99,
   "id": "db023873",
   "metadata": {
    "ExecuteTime": {
     "end_time": "2022-06-29T06:56:19.240267Z",
     "start_time": "2022-06-29T06:56:19.213313Z"
    }
   },
   "outputs": [],
   "source": [
    "# Logging & Callback Module\n",
    "# But the one NN model = 232 Mb. It is good not to store it.\n",
    "class TrainAndLoggingCallback(BaseCallback):\n",
    "\n",
    "    def __init__(self, check_freq, save_path, verbose=1):\n",
    "        super(TrainAndLoggingCallback, self).__init__(verbose)\n",
    "        self.check_freq = check_freq\n",
    "        self.save_path = save_path\n",
    "\n",
    "    def _init_callback(self):\n",
    "        if self.save_path is not None:\n",
    "            os.makedirs(self.save_path, exist_ok=True)\n",
    "\n",
    "    def _on_step(self):\n",
    "        if self.n_calls % self.check_freq == 0:\n",
    "            model_path = os.path.join(self.save_path, 'best_model_{}'.format(self.n_calls))\n",
    "            self.model.save(model_path)\n",
    "\n",
    "        return True"
   ]
  },
  {
   "cell_type": "code",
   "execution_count": 105,
   "id": "4cffe6a0",
   "metadata": {
    "ExecuteTime": {
     "end_time": "2022-06-29T07:01:12.348763Z",
     "start_time": "2022-06-29T07:01:12.331781Z"
    }
   },
   "outputs": [],
   "source": [
    "CHECKPOINT_DIR = './SuperMario/Train'\n",
    "LOG_DIR='./SuperMario/logs'"
   ]
  },
  {
   "cell_type": "code",
   "execution_count": 106,
   "id": "aca7d4e7",
   "metadata": {
    "ExecuteTime": {
     "end_time": "2022-06-29T07:01:12.490254Z",
     "start_time": "2022-06-29T07:01:12.485243Z"
    }
   },
   "outputs": [],
   "source": [
    "# Setup model saving callbacks\n",
    "callback = TrainAndLoggingCallback(check_freq = 10000, save_path = CHECKPOINT_DIR)"
   ]
  },
  {
   "cell_type": "code",
   "execution_count": 109,
   "id": "b4f56a26",
   "metadata": {
    "ExecuteTime": {
     "end_time": "2022-06-29T07:04:21.458438Z",
     "start_time": "2022-06-29T07:04:20.074749Z"
    }
   },
   "outputs": [
    {
     "name": "stdout",
     "output_type": "stream",
     "text": [
      "Using cpu device\n",
      "Wrapping the env in a VecTransposeImage.\n"
     ]
    }
   ],
   "source": [
    "# This is the AI model started (MlpPolicy: Tabular Data / CnnPolicy: Image Data)\n",
    "model = PPO('CnnPolicy', env, verbose=1, tensorboard_log = LOG_DIR, learning_rate = 0.000001, n_steps=512)\n",
    "# 512 frames -> 1 update"
   ]
  },
  {
   "cell_type": "code",
   "execution_count": null,
   "id": "64bba67f",
   "metadata": {
    "ExecuteTime": {
     "start_time": "2022-06-29T07:04:37.943Z"
    }
   },
   "outputs": [
    {
     "name": "stdout",
     "output_type": "stream",
     "text": [
      "Logging to ./SuperMario/logs\\PPO_1\n"
     ]
    },
    {
     "name": "stderr",
     "output_type": "stream",
     "text": [
      "C:\\Users\\iDLaber\\miniconda3\\envs\\baselines\\lib\\site-packages\\gym_super_mario_bros\\smb_env.py:148: RuntimeWarning: overflow encountered in ubyte_scalars\n",
      "  return (self.ram[0x86] - self.ram[0x071c]) % 256\n"
     ]
    },
    {
     "name": "stdout",
     "output_type": "stream",
     "text": [
      "----------------------------\n",
      "| time/              |     |\n",
      "|    fps             | 77  |\n",
      "|    iterations      | 1   |\n",
      "|    time_elapsed    | 6   |\n",
      "|    total_timesteps | 512 |\n",
      "----------------------------\n",
      "------------------------------------------\n",
      "| time/                   |              |\n",
      "|    fps                  | 14           |\n",
      "|    iterations           | 2            |\n",
      "|    time_elapsed         | 72           |\n",
      "|    total_timesteps      | 1024         |\n",
      "| train/                  |              |\n",
      "|    approx_kl            | 6.309734e-05 |\n",
      "|    clip_fraction        | 0            |\n",
      "|    clip_range           | 0.2          |\n",
      "|    entropy_loss         | -1.95        |\n",
      "|    explained_variance   | 0.00673      |\n",
      "|    learning_rate        | 1e-06        |\n",
      "|    loss                 | 93.7         |\n",
      "|    n_updates            | 10           |\n",
      "|    policy_gradient_loss | -0.000489    |\n",
      "|    value_loss           | 279          |\n",
      "------------------------------------------\n",
      "-------------------------------------------\n",
      "| time/                   |               |\n",
      "|    fps                  | 11            |\n",
      "|    iterations           | 3             |\n",
      "|    time_elapsed         | 135           |\n",
      "|    total_timesteps      | 1536          |\n",
      "| train/                  |               |\n",
      "|    approx_kl            | 0.00017964374 |\n",
      "|    clip_fraction        | 0             |\n",
      "|    clip_range           | 0.2           |\n",
      "|    entropy_loss         | -1.95         |\n",
      "|    explained_variance   | -0.00304      |\n",
      "|    learning_rate        | 1e-06         |\n",
      "|    loss                 | 67.5          |\n",
      "|    n_updates            | 20            |\n",
      "|    policy_gradient_loss | -0.00101      |\n",
      "|    value_loss           | 90.9          |\n",
      "-------------------------------------------\n",
      "-------------------------------------------\n",
      "| time/                   |               |\n",
      "|    fps                  | 10            |\n",
      "|    iterations           | 4             |\n",
      "|    time_elapsed         | 199           |\n",
      "|    total_timesteps      | 2048          |\n",
      "| train/                  |               |\n",
      "|    approx_kl            | 0.00017719623 |\n",
      "|    clip_fraction        | 0             |\n",
      "|    clip_range           | 0.2           |\n",
      "|    entropy_loss         | -1.95         |\n",
      "|    explained_variance   | -0.0569       |\n",
      "|    learning_rate        | 1e-06         |\n",
      "|    loss                 | 0.179         |\n",
      "|    n_updates            | 30            |\n",
      "|    policy_gradient_loss | -0.00103      |\n",
      "|    value_loss           | 1.87          |\n",
      "-------------------------------------------\n",
      "------------------------------------------\n",
      "| time/                   |              |\n",
      "|    fps                  | 9            |\n",
      "|    iterations           | 5            |\n",
      "|    time_elapsed         | 264          |\n",
      "|    total_timesteps      | 2560         |\n",
      "| train/                  |              |\n",
      "|    approx_kl            | 6.324088e-05 |\n",
      "|    clip_fraction        | 0            |\n",
      "|    clip_range           | 0.2          |\n",
      "|    entropy_loss         | -1.95        |\n",
      "|    explained_variance   | -0.0255      |\n",
      "|    learning_rate        | 1e-06        |\n",
      "|    loss                 | 0.154        |\n",
      "|    n_updates            | 40           |\n",
      "|    policy_gradient_loss | -0.000428    |\n",
      "|    value_loss           | 1.31         |\n",
      "------------------------------------------\n",
      "-------------------------------------------\n",
      "| time/                   |               |\n",
      "|    fps                  | 9             |\n",
      "|    iterations           | 6             |\n",
      "|    time_elapsed         | 327           |\n",
      "|    total_timesteps      | 3072          |\n",
      "| train/                  |               |\n",
      "|    approx_kl            | 2.9654126e-05 |\n",
      "|    clip_fraction        | 0             |\n",
      "|    clip_range           | 0.2           |\n",
      "|    entropy_loss         | -1.95         |\n",
      "|    explained_variance   | 0.0155        |\n",
      "|    learning_rate        | 1e-06         |\n",
      "|    loss                 | 0.0965        |\n",
      "|    n_updates            | 50            |\n",
      "|    policy_gradient_loss | -3.74e-05     |\n",
      "|    value_loss           | 0.921         |\n",
      "-------------------------------------------\n",
      "-----------------------------------------\n",
      "| time/                   |             |\n",
      "|    fps                  | 9           |\n",
      "|    iterations           | 7           |\n",
      "|    time_elapsed         | 391         |\n",
      "|    total_timesteps      | 3584        |\n",
      "| train/                  |             |\n",
      "|    approx_kl            | 2.56747e-05 |\n",
      "|    clip_fraction        | 0           |\n",
      "|    clip_range           | 0.2         |\n",
      "|    entropy_loss         | -1.95       |\n",
      "|    explained_variance   | -0.0202     |\n",
      "|    learning_rate        | 1e-06       |\n",
      "|    loss                 | 0.171       |\n",
      "|    n_updates            | 60          |\n",
      "|    policy_gradient_loss | -0.000149   |\n",
      "|    value_loss           | 0.598       |\n",
      "-----------------------------------------\n",
      "-------------------------------------------\n",
      "| time/                   |               |\n",
      "|    fps                  | 9             |\n",
      "|    iterations           | 8             |\n",
      "|    time_elapsed         | 454           |\n",
      "|    total_timesteps      | 4096          |\n",
      "| train/                  |               |\n",
      "|    approx_kl            | 4.4163316e-05 |\n",
      "|    clip_fraction        | 0             |\n",
      "|    clip_range           | 0.2           |\n",
      "|    entropy_loss         | -1.95         |\n",
      "|    explained_variance   | -0.00877      |\n",
      "|    learning_rate        | 1e-06         |\n",
      "|    loss                 | 0.247         |\n",
      "|    n_updates            | 70            |\n",
      "|    policy_gradient_loss | -0.000685     |\n",
      "|    value_loss           | 0.757         |\n",
      "-------------------------------------------\n",
      "-------------------------------------------\n",
      "| time/                   |               |\n",
      "|    fps                  | 8             |\n",
      "|    iterations           | 9             |\n",
      "|    time_elapsed         | 518           |\n",
      "|    total_timesteps      | 4608          |\n",
      "| train/                  |               |\n",
      "|    approx_kl            | 1.4975783e-05 |\n",
      "|    clip_fraction        | 0             |\n",
      "|    clip_range           | 0.2           |\n",
      "|    entropy_loss         | -1.95         |\n",
      "|    explained_variance   | 0.00445       |\n",
      "|    learning_rate        | 1e-06         |\n",
      "|    loss                 | 0.254         |\n",
      "|    n_updates            | 80            |\n",
      "|    policy_gradient_loss | -0.000194     |\n",
      "|    value_loss           | 0.586         |\n",
      "-------------------------------------------\n",
      "-------------------------------------------\n",
      "| time/                   |               |\n",
      "|    fps                  | 8             |\n",
      "|    iterations           | 10            |\n",
      "|    time_elapsed         | 586           |\n",
      "|    total_timesteps      | 5120          |\n",
      "| train/                  |               |\n",
      "|    approx_kl            | 2.3562461e-05 |\n",
      "|    clip_fraction        | 0             |\n",
      "|    clip_range           | 0.2           |\n",
      "|    entropy_loss         | -1.95         |\n",
      "|    explained_variance   | -0.0161       |\n",
      "|    learning_rate        | 1e-06         |\n",
      "|    loss                 | 0.125         |\n",
      "|    n_updates            | 90            |\n",
      "|    policy_gradient_loss | -0.000354     |\n",
      "|    value_loss           | 0.292         |\n",
      "-------------------------------------------\n",
      "------------------------------------------\n",
      "| time/                   |              |\n",
      "|    fps                  | 8            |\n",
      "|    iterations           | 11           |\n",
      "|    time_elapsed         | 655          |\n",
      "|    total_timesteps      | 5632         |\n",
      "| train/                  |              |\n",
      "|    approx_kl            | 2.988556e-05 |\n",
      "|    clip_fraction        | 0            |\n",
      "|    clip_range           | 0.2          |\n",
      "|    entropy_loss         | -1.95        |\n",
      "|    explained_variance   | -0.000443    |\n",
      "|    learning_rate        | 1e-06        |\n",
      "|    loss                 | 0.133        |\n",
      "|    n_updates            | 100          |\n",
      "|    policy_gradient_loss | -0.000453    |\n",
      "|    value_loss           | 0.608        |\n",
      "------------------------------------------\n",
      "------------------------------------------\n",
      "| time/                   |              |\n",
      "|    fps                  | 8            |\n",
      "|    iterations           | 12           |\n",
      "|    time_elapsed         | 726          |\n",
      "|    total_timesteps      | 6144         |\n",
      "| train/                  |              |\n",
      "|    approx_kl            | 8.277083e-05 |\n",
      "|    clip_fraction        | 0            |\n",
      "|    clip_range           | 0.2          |\n",
      "|    entropy_loss         | -1.95        |\n",
      "|    explained_variance   | 0.00881      |\n",
      "|    learning_rate        | 1e-06        |\n",
      "|    loss                 | 0.116        |\n",
      "|    n_updates            | 110          |\n",
      "|    policy_gradient_loss | -0.00104     |\n",
      "|    value_loss           | 0.275        |\n",
      "------------------------------------------\n"
     ]
    },
    {
     "name": "stdout",
     "output_type": "stream",
     "text": [
      "------------------------------------------\n",
      "| time/                   |              |\n",
      "|    fps                  | 8            |\n",
      "|    iterations           | 13           |\n",
      "|    time_elapsed         | 799          |\n",
      "|    total_timesteps      | 6656         |\n",
      "| train/                  |              |\n",
      "|    approx_kl            | 3.058964e-05 |\n",
      "|    clip_fraction        | 0            |\n",
      "|    clip_range           | 0.2          |\n",
      "|    entropy_loss         | -1.95        |\n",
      "|    explained_variance   | -0.00189     |\n",
      "|    learning_rate        | 1e-06        |\n",
      "|    loss                 | 0.114        |\n",
      "|    n_updates            | 120          |\n",
      "|    policy_gradient_loss | -0.000382    |\n",
      "|    value_loss           | 0.278        |\n",
      "------------------------------------------\n",
      "-------------------------------------------\n",
      "| time/                   |               |\n",
      "|    fps                  | 8             |\n",
      "|    iterations           | 14            |\n",
      "|    time_elapsed         | 871           |\n",
      "|    total_timesteps      | 7168          |\n",
      "| train/                  |               |\n",
      "|    approx_kl            | 5.4396805e-05 |\n",
      "|    clip_fraction        | 0             |\n",
      "|    clip_range           | 0.2           |\n",
      "|    entropy_loss         | -1.94         |\n",
      "|    explained_variance   | 0.0152        |\n",
      "|    learning_rate        | 1e-06         |\n",
      "|    loss                 | 0.42          |\n",
      "|    n_updates            | 130           |\n",
      "|    policy_gradient_loss | -0.000838     |\n",
      "|    value_loss           | 0.833         |\n",
      "-------------------------------------------\n",
      "-------------------------------------------\n",
      "| time/                   |               |\n",
      "|    fps                  | 8             |\n",
      "|    iterations           | 15            |\n",
      "|    time_elapsed         | 944           |\n",
      "|    total_timesteps      | 7680          |\n",
      "| train/                  |               |\n",
      "|    approx_kl            | 1.4254008e-05 |\n",
      "|    clip_fraction        | 0             |\n",
      "|    clip_range           | 0.2           |\n",
      "|    entropy_loss         | -1.94         |\n",
      "|    explained_variance   | -0.00899      |\n",
      "|    learning_rate        | 1e-06         |\n",
      "|    loss                 | 0.0649        |\n",
      "|    n_updates            | 140           |\n",
      "|    policy_gradient_loss | -0.000199     |\n",
      "|    value_loss           | 0.233         |\n",
      "-------------------------------------------\n",
      "-------------------------------------------\n",
      "| time/                   |               |\n",
      "|    fps                  | 8             |\n",
      "|    iterations           | 16            |\n",
      "|    time_elapsed         | 1016          |\n",
      "|    total_timesteps      | 8192          |\n",
      "| train/                  |               |\n",
      "|    approx_kl            | 6.9906237e-06 |\n",
      "|    clip_fraction        | 0             |\n",
      "|    clip_range           | 0.2           |\n",
      "|    entropy_loss         | -1.94         |\n",
      "|    explained_variance   | 0.0373        |\n",
      "|    learning_rate        | 1e-06         |\n",
      "|    loss                 | 0.0826        |\n",
      "|    n_updates            | 150           |\n",
      "|    policy_gradient_loss | -8.78e-05     |\n",
      "|    value_loss           | 0.158         |\n",
      "-------------------------------------------\n",
      "-------------------------------------------\n",
      "| time/                   |               |\n",
      "|    fps                  | 8             |\n",
      "|    iterations           | 17            |\n",
      "|    time_elapsed         | 1085          |\n",
      "|    total_timesteps      | 8704          |\n",
      "| train/                  |               |\n",
      "|    approx_kl            | 5.0819828e-05 |\n",
      "|    clip_fraction        | 0             |\n",
      "|    clip_range           | 0.2           |\n",
      "|    entropy_loss         | -1.94         |\n",
      "|    explained_variance   | 0.0356        |\n",
      "|    learning_rate        | 1e-06         |\n",
      "|    loss                 | 80.4          |\n",
      "|    n_updates            | 160           |\n",
      "|    policy_gradient_loss | 0.000232      |\n",
      "|    value_loss           | 217           |\n",
      "-------------------------------------------\n",
      "-------------------------------------------\n",
      "| time/                   |               |\n",
      "|    fps                  | 8             |\n",
      "|    iterations           | 18            |\n",
      "|    time_elapsed         | 1151          |\n",
      "|    total_timesteps      | 9216          |\n",
      "| train/                  |               |\n",
      "|    approx_kl            | 1.6465201e-05 |\n",
      "|    clip_fraction        | 0             |\n",
      "|    clip_range           | 0.2           |\n",
      "|    entropy_loss         | -1.94         |\n",
      "|    explained_variance   | 0.0398        |\n",
      "|    learning_rate        | 1e-06         |\n",
      "|    loss                 | 130           |\n",
      "|    n_updates            | 170           |\n",
      "|    policy_gradient_loss | -3.99e-06     |\n",
      "|    value_loss           | 220           |\n",
      "-------------------------------------------\n",
      "------------------------------------------\n",
      "| time/                   |              |\n",
      "|    fps                  | 7            |\n",
      "|    iterations           | 19           |\n",
      "|    time_elapsed         | 1217         |\n",
      "|    total_timesteps      | 9728         |\n",
      "| train/                  |              |\n",
      "|    approx_kl            | 8.772244e-05 |\n",
      "|    clip_fraction        | 0            |\n",
      "|    clip_range           | 0.2          |\n",
      "|    entropy_loss         | -1.94        |\n",
      "|    explained_variance   | 0.13         |\n",
      "|    learning_rate        | 1e-06        |\n",
      "|    loss                 | 0.243        |\n",
      "|    n_updates            | 180          |\n",
      "|    policy_gradient_loss | -0.00059     |\n",
      "|    value_loss           | 1.47         |\n",
      "------------------------------------------\n",
      "------------------------------------------\n",
      "| time/                   |              |\n",
      "|    fps                  | 7            |\n",
      "|    iterations           | 20           |\n",
      "|    time_elapsed         | 1283         |\n",
      "|    total_timesteps      | 10240        |\n",
      "| train/                  |              |\n",
      "|    approx_kl            | 2.807728e-05 |\n",
      "|    clip_fraction        | 0            |\n",
      "|    clip_range           | 0.2          |\n",
      "|    entropy_loss         | -1.94        |\n",
      "|    explained_variance   | -0.0703      |\n",
      "|    learning_rate        | 1e-06        |\n",
      "|    loss                 | 0.188        |\n",
      "|    n_updates            | 190          |\n",
      "|    policy_gradient_loss | -0.000211    |\n",
      "|    value_loss           | 1.05         |\n",
      "------------------------------------------\n"
     ]
    }
   ],
   "source": [
    "# Train the AI model this is where the AI model starts to learn\n",
    "model.learn(total_timesteps=100000, callback = callback)"
   ]
  },
  {
   "cell_type": "code",
   "execution_count": null,
   "id": "64ffb8dc",
   "metadata": {},
   "outputs": [],
   "source": [
    "# model.save('test_model') # -> Save as a zip file in the present location"
   ]
  },
  {
   "cell_type": "markdown",
   "id": "89c5bb3b",
   "metadata": {},
   "source": [
    "# 4. Test it Out"
   ]
  },
  {
   "cell_type": "code",
   "execution_count": null,
   "id": "d6be2525",
   "metadata": {},
   "outputs": [],
   "source": [
    "# Load model\n",
    "# model = PPO.load('./train/best_model_100000')"
   ]
  },
  {
   "cell_type": "code",
   "execution_count": null,
   "id": "f4deffda",
   "metadata": {},
   "outputs": [],
   "source": [
    "state = env.reset()"
   ]
  },
  {
   "cell_type": "code",
   "execution_count": null,
   "id": "264083bc",
   "metadata": {},
   "outputs": [],
   "source": [
    "model.predict(state) # The predicted action of the AI model"
   ]
  },
  {
   "cell_type": "code",
   "execution_count": null,
   "id": "51bf6d61",
   "metadata": {},
   "outputs": [],
   "source": [
    "SIMPLE_MOVEMENT(model.preidct(state)[0][0])"
   ]
  },
  {
   "cell_type": "code",
   "execution_count": null,
   "id": "9f5f217e",
   "metadata": {},
   "outputs": [],
   "source": [
    "# start game\n",
    "state = env.reset()\n",
    "while True:\n",
    "    action, _ = model.predict(state)\n",
    "    state, reward, done, info = env.step(action)\n",
    "    env.render()"
   ]
  },
  {
   "cell_type": "code",
   "execution_count": null,
   "id": "fa093f0e",
   "metadata": {},
   "outputs": [],
   "source": []
  }
 ],
 "metadata": {
  "kernelspec": {
   "display_name": "baselines",
   "language": "python",
   "name": "baselines"
  },
  "language_info": {
   "codemirror_mode": {
    "name": "ipython",
    "version": 3
   },
   "file_extension": ".py",
   "mimetype": "text/x-python",
   "name": "python",
   "nbconvert_exporter": "python",
   "pygments_lexer": "ipython3",
   "version": "3.10.4"
  },
  "toc": {
   "base_numbering": 1,
   "nav_menu": {},
   "number_sections": true,
   "sideBar": true,
   "skip_h1_title": false,
   "title_cell": "Table of Contents",
   "title_sidebar": "Contents",
   "toc_cell": false,
   "toc_position": {},
   "toc_section_display": true,
   "toc_window_display": false
  }
 },
 "nbformat": 4,
 "nbformat_minor": 5
}
